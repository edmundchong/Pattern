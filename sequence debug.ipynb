{
 "cells": [
  {
   "cell_type": "code",
   "execution_count": null,
   "metadata": {},
   "outputs": [],
   "source": [
    "%pylab inline\n",
    "\n",
    "import spot\n",
    "import PatternStimulus as ps\n",
    "import pickle\n",
    "import sequence\n",
    "reload(sequence)\n",
    "import random\n",
    "from time_shifter import duration_shifter\n",
    "from copy import deepcopy"
   ]
  },
  {
   "cell_type": "code",
   "execution_count": null,
   "metadata": {
    "collapsed": true
   },
   "outputs": [],
   "source": [
    "with open('11941.pickle','rb') as fn:\n",
    "    sess, spots = pickle.load(fn)"
   ]
  },
  {
   "cell_type": "code",
   "execution_count": null,
   "metadata": {},
   "outputs": [],
   "source": [
    "ptn='A10_B50_C90_D130_E170_F210-14'\n",
    "\n",
    "nowSess=sess[-1]\n",
    "xy,timing,intensities,grouptimes,rand_args=ps.get_pattern_params(spots['list'],ptn,nowSess) \n",
    "\n",
    "fixed_spotsize = nowSess['pre']['gridsize']\n",
    "spotsizes=[fixed_spotsize for x in range(len(xy))] #TODO: variable spot size per spot\n",
    "isProbe = 1\n",
    "rig='Polygon'\n",
    "seq_obj=sequence.Sequence2(spots=xy,\n",
    "                          timing=timing,\n",
    "                          isProbe=isProbe,\n",
    "                          rig=rig,\n",
    "                          spotsizes=spotsizes,\n",
    "                          label=ptn,\n",
    "                          mode='grid',\n",
    "                          intensities=intensities,\n",
    "                          grouptimes=grouptimes,\n",
    "                          rand_args=rand_args)\n",
    "\n",
    "if seq_obj.isRandomSequence:\n",
    "    seq_obj.rand_spotlist = spots['list']['R']\n",
    "\n",
    "\n"
   ]
  },
  {
   "cell_type": "code",
   "execution_count": null,
   "metadata": {},
   "outputs": [],
   "source": [
    "target=deepcopy(seq_obj)\n",
    "tptn = {}\n",
    "for s in target.spotlist:\n",
    "    tptn[tuple(s.xy)]=s.timing\n",
    "\n",
    "onsets = [t[0] for t in tptn.values()]\n",
    "onsets.sort()"
   ]
  },
  {
   "cell_type": "code",
   "execution_count": null,
   "metadata": {},
   "outputs": [],
   "source": [
    "spot2pos = {}\n",
    "for s,t in tptn.items():\n",
    "    pos = onsets.index(t[0])\n",
    "    spot2pos[s] = pos "
   ]
  },
  {
   "cell_type": "code",
   "execution_count": null,
   "metadata": {},
   "outputs": [],
   "source": [
    "replaceVec_all = []\n",
    "shiftVec_all = []\n",
    "nspots=len(tptn)\n",
    "for i in range(2000):\n",
    "    seq_obj.randomize()\n",
    "    replaceVec = [0]*nspots\n",
    "    shiftVec = [0]*nspots\n",
    "\n",
    "    ptn = {}\n",
    "    for s in seq_obj.spotlist:\n",
    "        ptn[tuple(s.xy)]=s.timing\n",
    "\n",
    "    for tgt_s,tgt_t in tptn.items():\n",
    "        pos = spot2pos[tgt_s]\n",
    "        if tgt_s not in ptn:\n",
    "            replaceVec[pos] = 1\n",
    "        else:\n",
    "            t = ptn[tgt_s]\n",
    "            shiftVec[pos] = t[0]-tgt_t[0]\n",
    "\n",
    "    replaceVec_all.append(replaceVec)\n",
    "    shiftVec_all.append(shiftVec)"
   ]
  },
  {
   "cell_type": "code",
   "execution_count": null,
   "metadata": {},
   "outputs": [],
   "source": [
    "replaceVec_all = np.array(replaceVec_all)\n",
    "shiftVec_all = np.array(shiftVec_all)\n",
    "\n",
    "vec=shiftVec_all[:,6]\n",
    "plt.hist(vec[vec!=0])\n",
    "plt.xlim([-90,90])\n",
    "#plt.ylim([0,600])"
   ]
  },
  {
   "cell_type": "code",
   "execution_count": null,
   "metadata": {},
   "outputs": [],
   "source": []
  }
 ],
 "metadata": {
  "kernelspec": {
   "display_name": "Python 2",
   "language": "python",
   "name": "python2"
  },
  "language_info": {
   "codemirror_mode": {
    "name": "ipython",
    "version": 2
   },
   "file_extension": ".py",
   "mimetype": "text/x-python",
   "name": "python",
   "nbconvert_exporter": "python",
   "pygments_lexer": "ipython2",
   "version": "2.7.13"
  }
 },
 "nbformat": 4,
 "nbformat_minor": 2
}
