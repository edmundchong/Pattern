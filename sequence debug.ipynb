{
 "cells": [
  {
   "cell_type": "code",
   "execution_count": 291,
   "metadata": {},
   "outputs": [
    {
     "name": "stdout",
     "output_type": "stream",
     "text": [
      "Populating the interactive namespace from numpy and matplotlib\n"
     ]
    }
   ],
   "source": [
    "%pylab inline\n",
    "\n",
    "import spot\n",
    "import PatternStimulus as ps\n",
    "import pickle\n",
    "import sequence\n",
    "reload(sequence)\n",
    "import random\n",
    "from time_shifter import duration_shifter\n",
    "from copy import deepcopy"
   ]
  },
  {
   "cell_type": "code",
   "execution_count": 292,
   "metadata": {
    "collapsed": true
   },
   "outputs": [],
   "source": [
    "with open('10722.pickle','rb') as fn:\n",
    "    sess, spots = pickle.load(fn)"
   ]
  },
  {
   "cell_type": "code",
   "execution_count": 293,
   "metadata": {},
   "outputs": [
    {
     "data": {
      "text/plain": [
       "[[2, 2], [8, 4], [9, 1], [6, 3], [2, 0], [2, 4], ['random']]"
      ]
     },
     "execution_count": 293,
     "metadata": {},
     "output_type": "execute_result"
    }
   ],
   "source": [
    "spots['list'].values()"
   ]
  },
  {
   "cell_type": "code",
   "execution_count": 294,
   "metadata": {},
   "outputs": [],
   "source": [
    "ptn='A10_B50_C90_D130_E170_F210-16'\n",
    "\n",
    "nowSess=sess[-1]\n",
    "xy,timing,intensities,grouptimes,rand_args=ps.get_pattern_params(spots['list'],ptn,nowSess) \n",
    "\n",
    "fixed_spotsize = nowSess['pre']['gridsize']\n",
    "spotsizes=[fixed_spotsize for x in range(len(xy))] #TODO: variable spot size per spot\n",
    "isProbe = 1\n",
    "rig='Polygon'\n",
    "#rig ='ALP2'\n",
    "seq_obj=sequence.Sequence(spots=xy,\n",
    "                          timing=timing,\n",
    "                          isProbe=isProbe,\n",
    "                          rig=rig,\n",
    "                          spotsizes=spotsizes,\n",
    "                          label=ptn,\n",
    "                          mode='grid',\n",
    "                          intensities=intensities,\n",
    "                          grouptimes=grouptimes,\n",
    "                          rand_args=rand_args)\n",
    "\n",
    "#for polygon, using Sequence\n",
    "if seq_obj.isRandomSequence:\n",
    "    excluded_spots = spots['list'].values() #target spots\n",
    "    if ['random'] in excluded_spots:\n",
    "        excluded_spots.remove(['random'])\n",
    "    seq_obj.excluded_spots=array(excluded_spots)\n",
    "\n",
    "\n",
    "#if seq_obj.isRandomSequence:\n",
    "#    seq_obj.rand_spotlist = spots['list']['R']\n",
    "\n",
    "\n"
   ]
  },
  {
   "cell_type": "code",
   "execution_count": 295,
   "metadata": {
    "collapsed": true
   },
   "outputs": [],
   "source": [
    "target=deepcopy(seq_obj)\n",
    "tptn = {}\n",
    "for s in target.spotlist:\n",
    "    tptn[tuple(s.xy)]=s.timing\n",
    "\n",
    "onsets = [t[0] for t in tptn.values()]\n",
    "onsets.sort()"
   ]
  },
  {
   "cell_type": "code",
   "execution_count": 296,
   "metadata": {
    "collapsed": true
   },
   "outputs": [],
   "source": [
    "spot2pos = {}\n",
    "for s,t in tptn.items():\n",
    "    pos = onsets.index(t[0])\n",
    "    spot2pos[s] = pos "
   ]
  },
  {
   "cell_type": "code",
   "execution_count": 297,
   "metadata": {},
   "outputs": [],
   "source": [
    "replaceVec_all = []\n",
    "shiftVec_all = []\n",
    "nspots=len(tptn)\n",
    "for i in range(1000):\n",
    "    seq_obj.randomize()\n",
    "    replaceVec = [0]*nspots\n",
    "    shiftVec = [0]*nspots\n",
    "\n",
    "    ptn = {}\n",
    "    for s in seq_obj.spotlist:\n",
    "        ptn[tuple(s.xy)]=s.timing\n",
    "\n",
    "    for tgt_s,tgt_t in tptn.items():\n",
    "        pos = spot2pos[tgt_s]\n",
    "        if tgt_s not in ptn:\n",
    "            replaceVec[pos] = 1\n",
    "        else:\n",
    "            t = ptn[tgt_s]\n",
    "            shiftVec[pos] = t[0]-tgt_t[0]\n",
    "    if np.sum(np.array(shiftVec)>80)>0:\n",
    "        print 'EH'\n",
    "        break\n",
    "\n",
    "    replaceVec_all.append(replaceVec)\n",
    "    shiftVec_all.append(shiftVec)"
   ]
  },
  {
   "cell_type": "code",
   "execution_count": 226,
   "metadata": {},
   "outputs": [
    {
     "name": "stdout",
     "output_type": "stream",
     "text": [
      "(9, 1) [50, 130] [170, 250]\n",
      "(2, 0) [130, 210] [130, 210]\n",
      "(2, 2) [10, 90] [10, 90]\n",
      "(2, 4) [210, 290] [210, 290]\n",
      "(8, 4) [90, 170] [90, 170]\n"
     ]
    }
   ],
   "source": [
    "for tgt_s,tgt_t in tptn.items():\n",
    "    if tgt_s in ptn:\n",
    "        print tgt_s,tgt_t,ptn[tgt_s]"
   ]
  },
  {
   "cell_type": "code",
   "execution_count": 305,
   "metadata": {},
   "outputs": [
    {
     "data": {
      "text/plain": [
       "(-90, 90)"
      ]
     },
     "execution_count": 305,
     "metadata": {},
     "output_type": "execute_result"
    },
    {
     "data": {
      "image/png": "[encoded data removed]",
      "text/plain": [
       "<matplotlib.figure.Figure at 0x110b16b10>"
      ]
     },
     "metadata": {},
     "output_type": "display_data"
    }
   ],
   "source": [
    "replaceVec_all = np.array(replaceVec_all)\n",
    "shiftVec_all = np.array(shiftVec_all)\n",
    "vec=shiftVec_all[:,5]\n",
    "#vec=replaceVec_all[]\n",
    "plt.hist(vec[vec!=0])\n",
    "plt.xlim([-90,90])\n",
    "#plt.ylim([0,600])"
   ]
  },
  {
   "cell_type": "code",
   "execution_count": null,
   "metadata": {},
   "outputs": [],
   "source": [
    "np.unique(shiftVec_all[:,0])"
   ]
  },
  {
   "cell_type": "code",
   "execution_count": 307,
   "metadata": {},
   "outputs": [
    {
     "data": {
      "text/plain": [
       "(array([ 590.,    0.,    0.,    0.,    0.,  299.,    0.,    0.,    0.,  111.]),\n",
       " array([ 1. ,  1.2,  1.4,  1.6,  1.8,  2. ,  2.2,  2.4,  2.6,  2.8,  3. ]),\n",
       " <a list of 10 Patch objects>)"
      ]
     },
     "execution_count": 307,
     "metadata": {},
     "output_type": "execute_result"
    },
    {
     "data": {
      "image/png": "[encoded data removed]",
      "text/plain": [
       "<matplotlib.figure.Figure at 0x110ef4d50>"
      ]
     },
     "metadata": {},
     "output_type": "display_data"
    }
   ],
   "source": [
    "plt.hist(np.sum(np.array(replaceVec_all),axis=1))"
   ]
  }
 ],
 "metadata": {
  "kernelspec": {
   "display_name": "Python 2",
   "language": "python",
   "name": "python2"
  },
  "language_info": {
   "codemirror_mode": {
    "name": "ipython",
    "version": 2
   },
   "file_extension": ".py",
   "mimetype": "text/x-python",
   "name": "python",
   "nbconvert_exporter": "python",
   "pygments_lexer": "ipython2",
   "version": "2.7.13"
  }
 },
 "nbformat": 4,
 "nbformat_minor": 2
}
