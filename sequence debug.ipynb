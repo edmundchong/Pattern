{
 "cells": [
  {
   "cell_type": "code",
   "execution_count": 22,
   "metadata": {},
   "outputs": [
    {
     "name": "stdout",
     "output_type": "stream",
     "text": [
      "Populating the interactive namespace from numpy and matplotlib\n"
     ]
    },
    {
     "name": "stderr",
     "output_type": "stream",
     "text": [
      "/Users/Edmund/anaconda/lib/python2.7/site-packages/IPython/core/magics/pylab.py:161: UserWarning: pylab import has clobbered these variables: ['random']\n",
      "`%matplotlib` prevents importing * from pylab and numpy\n",
      "  \"\\n`%matplotlib` prevents importing * from pylab and numpy\"\n"
     ]
    }
   ],
   "source": [
    "%pylab inline\n",
    "\n",
    "import spot\n",
    "import PatternStimulus as ps\n",
    "import pickle\n",
    "import sequence\n",
    "reload(sequence)\n",
    "import random\n",
    "from time_shifter import duration_shifter"
   ]
  },
  {
   "cell_type": "code",
   "execution_count": 23,
   "metadata": {},
   "outputs": [],
   "source": [
    "with open('9495.pickle','rb') as fn:\n",
    "    sess, spots = pickle.load(fn)"
   ]
  },
  {
   "cell_type": "code",
   "execution_count": 24,
   "metadata": {},
   "outputs": [],
   "source": [
    "ptn='A10_B50_C90_D130_E170_F210'\n"
   ]
  },
  {
   "cell_type": "code",
   "execution_count": 25,
   "metadata": {},
   "outputs": [
    {
     "data": {
      "text/plain": [
       "{'defn': {'A': {'dur': 80, 'intensity': 255, 'onset': 10},\n",
       "  'B': {'dur': 80, 'intensity': 255, 'onset': 50},\n",
       "  'C': {'dur': 80, 'intensity': 255, 'onset': 90},\n",
       "  'D': {'dur': 80, 'intensity': 255, 'onset': 130},\n",
       "  'E': {'dur': 80, 'intensity': 255, 'onset': 170},\n",
       "  'F': {'dur': 80, 'intensity': 255, 'onset': 210}}}"
      ]
     },
     "execution_count": 25,
     "metadata": {},
     "output_type": "execute_result"
    }
   ],
   "source": [
    "#ptn='R10_R50_R90_R130_R170_R210'\n",
    "#ptn='A10_B50_C90_D130_E170_F210'\n",
    "\n",
    "sess[-1]['patterns'][ptn]"
   ]
  },
  {
   "cell_type": "code",
   "execution_count": 26,
   "metadata": {
    "collapsed": true
   },
   "outputs": [],
   "source": [
    "nowSess=sess[-1]\n",
    "xy,timing,intensities,grouptimes,rand_args=ps.get_pattern_params(spots['list'],ptn,nowSess) "
   ]
  },
  {
   "cell_type": "code",
   "execution_count": 27,
   "metadata": {},
   "outputs": [
    {
     "data": {
      "text/plain": [
       "[[10, 90], [20, 100], [30, 110], [40, 120], [50, 130], [60, 140]]"
      ]
     },
     "execution_count": 27,
     "metadata": {},
     "output_type": "execute_result"
    }
   ],
   "source": [
    "rand_args['randt']=3\n",
    "timing=[[10,90],[20,100],[30,110],[40,120],[50,130],[60,140]]\n",
    "timing"
   ]
  },
  {
   "cell_type": "code",
   "execution_count": 46,
   "metadata": {},
   "outputs": [],
   "source": [
    "fixed_spotsize=120\n",
    "spotsizes=[fixed_spotsize for x in range(len(xy))] #TODO: variable spot size per spot\n",
    "isProbe = 1\n",
    "rig='Polygon'\n",
    "seq_obj=sequence.Sequence(spots=xy,\n",
    "                          timing=timing,\n",
    "                          isProbe=isProbe,\n",
    "                          rig=rig,\n",
    "                          spotsizes=spotsizes,\n",
    "                          label=ptn,\n",
    "                          mode='grid',\n",
    "                          intensities=intensities,\n",
    "                          grouptimes=grouptimes,\n",
    "                          rand_args=rand_args)\n"
   ]
  },
  {
   "cell_type": "code",
   "execution_count": 47,
   "metadata": {},
   "outputs": [
    {
     "data": {
      "image/png": "[encoded data removed]",
      "text/plain": [
       "<matplotlib.figure.Figure at 0x10a619350>"
      ]
     },
     "metadata": {},
     "output_type": "display_data"
    }
   ],
   "source": [
    "plt.figure(figsize=(15,15))\n",
    "seq_obj.show()"
   ]
  },
  {
   "cell_type": "code",
   "execution_count": 48,
   "metadata": {},
   "outputs": [
    {
     "name": "stdout",
     "output_type": "stream",
     "text": [
      "[  0   0   0   0 -20 -20]\n",
      "(10, 90) [10, 90]\n",
      "(20, 100) [20, 100]\n",
      "(30, 110) [30, 110]\n",
      "(40, 120) [40, 120]\n",
      "(50, 130) [30, 110]\n",
      "(60, 140) [40, 120]\n"
     ]
    },
    {
     "data": {
      "image/png": "[encoded data removed]",
      "text/plain": [
       "<matplotlib.figure.Figure at 0x10a5e68d0>"
      ]
     },
     "metadata": {},
     "output_type": "display_data"
    }
   ],
   "source": [
    "seq_obj.randomize()\n",
    "plt.figure(figsize=(15,15))\n",
    "seq_obj.show()\n"
   ]
  },
  {
   "cell_type": "code",
   "execution_count": null,
   "metadata": {},
   "outputs": [],
   "source": [
    "seq_obj.randomize()\n",
    "for s in seq_obj.spotlist:\n",
    "    print tuple(s.xy) in spots['list']['R']\n",
    "    "
   ]
  },
  {
   "cell_type": "code",
   "execution_count": null,
   "metadata": {
    "collapsed": true
   },
   "outputs": [],
   "source": [
    "results={}\n",
    "for i in range(10000):\n",
    "    old_target = [(10, 90), (50, 130),(90, 170), (130, 210), (170, 250), (210, 290)]\n",
    "    oldt=list(random.choice(old_target))\n",
    "    pos=random.choice([0,1])\n",
    "    shift=random.choice([-40,40])\n",
    "    newt=oldt[:]\n",
    "    newt[pos]=max(0,oldt[pos]+shift)\n",
    "    if tuple(oldt) in results:\n",
    "        results[tuple(oldt)].append(newt)\n",
    "    else:\n",
    "        results[tuple(oldt)] = [newt]\n"
   ]
  },
  {
   "cell_type": "code",
   "execution_count": null,
   "metadata": {
    "collapsed": true
   },
   "outputs": [],
   "source": []
  },
  {
   "cell_type": "code",
   "execution_count": null,
   "metadata": {
    "collapsed": true
   },
   "outputs": [],
   "source": [
    "s=(50,130)\n",
    "spot_result=np.array(results[s])\n",
    "fig,ax=plt.subplots(1,1)\n",
    "a=np.mean(spot_result,axis=0)[0]\n",
    "b=np.mean(spot_result,axis=0)[1]\n",
    "a_err = np.std(spot_result,axis=0)[0]\n",
    "b_err = np.std(spot_result,axis=0)[1]\n",
    "y_pos = 1500\n",
    "y_height = 100\n",
    "\n",
    "ax.barh(y_pos,left=a,width=b-a,height = y_height,align='center',\n",
    "        color='green', zorder=99)\n",
    "\n",
    "ax.errorbar(a,y_pos,xerr=a_err,color='k')\n",
    "ax.errorbar(b,y_pos,xerr=b_err,color='k')\n",
    "ax.set_ylim(50,2000)\n",
    "ax.set_xlim(0,200)\n",
    "\n",
    "ax.hist(spot_result[:,1], color='orange',bins = binBoundaries);\n",
    "ax.hist(spot_result[:,0], color='blue', bins = binBoundaries,alpha=0.7);"
   ]
  },
  {
   "cell_type": "code",
   "execution_count": null,
   "metadata": {
    "collapsed": true
   },
   "outputs": [],
   "source": [
    "old_target = [(10, 90), (50, 130),(90, 170), (130, 210), (170, 250), (210, 290)]\n",
    "shift_map={}\n",
    "for t in old_target:\n",
    "    shift_map[t]=t\n",
    "\n",
    "old_t=random.choice(shift_map.keys())\n",
    "shift_list=[-40,-60,+40,+60]\n",
    "shift=random.choice(shift_list)\n",
    "new_t=(old_t[0],old_t[1]+shift)\n",
    "print old_t,new_t\n",
    "shift_map[old_t]=new_t"
   ]
  },
  {
   "cell_type": "code",
   "execution_count": null,
   "metadata": {
    "collapsed": true
   },
   "outputs": [],
   "source": [
    "shifter=duration_shifter(1)\n",
    "shifter.get_shift_map()"
   ]
  },
  {
   "cell_type": "code",
   "execution_count": null,
   "metadata": {
    "collapsed": true
   },
   "outputs": [],
   "source": [
    "shifter.get_shift_map()"
   ]
  },
  {
   "cell_type": "code",
   "execution_count": null,
   "metadata": {
    "collapsed": true
   },
   "outputs": [],
   "source": []
  }
 ],
 "metadata": {
  "kernelspec": {
   "display_name": "Python 2",
   "language": "python",
   "name": "python2"
  },
  "language_info": {
   "codemirror_mode": {
    "name": "ipython",
    "version": 2
   },
   "file_extension": ".py",
   "mimetype": "text/x-python",
   "name": "python",
   "nbconvert_exporter": "python",
   "pygments_lexer": "ipython2",
   "version": "2.7.13"
  }
 },
 "nbformat": 4,
 "nbformat_minor": 2
}
