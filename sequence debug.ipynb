{
 "cells": [
  {
   "cell_type": "code",
   "execution_count": 1,
   "metadata": {},
   "outputs": [
    {
     "name": "stdout",
     "output_type": "stream",
     "text": [
      "Populating the interactive namespace from numpy and matplotlib\n"
     ]
    }
   ],
   "source": [
    "%pylab inline\n",
    "\n",
    "import spot\n",
    "import PatternStimulus as ps\n",
    "import pickle\n",
    "import sequence\n",
    "reload(sequence)\n",
    "import random\n",
    "from time_shifter import duration_shifter"
   ]
  },
  {
   "cell_type": "code",
   "execution_count": 4,
   "metadata": {
    "collapsed": true
   },
   "outputs": [],
   "source": [
    "with open('ALP2_create/11132.pickle','rb') as fn:\n",
    "    sess, spots = pickle.load(fn)"
   ]
  },
  {
   "cell_type": "code",
   "execution_count": 47,
   "metadata": {},
   "outputs": [
    {
     "data": {
      "text/plain": [
       "{'defn': {'R0': {'dur': 80, 'grouptime': '', 'intensity': 255, 'onset': 10},\n",
       "  'R1': {'dur': 80, 'grouptime': '', 'intensity': 255, 'onset': 50},\n",
       "  'R2': {'dur': 80, 'grouptime': '', 'intensity': 255, 'onset': 90},\n",
       "  'R3': {'dur': 80, 'grouptime': '', 'intensity': 255, 'onset': 130},\n",
       "  'R4': {'dur': 80, 'grouptime': '', 'intensity': 255, 'onset': 170},\n",
       "  'R5': {'dur': 80, 'grouptime': '', 'intensity': 255, 'onset': 210}}}"
      ]
     },
     "execution_count": 47,
     "metadata": {},
     "output_type": "execute_result"
    }
   ],
   "source": [
    "ptn='R10_R50_R90_R130_R170_R210'\n",
    "#ptn='A10_B50_C90_D130_E170_F210'\n",
    "\n",
    "sess[-1]['patterns'][ptn]"
   ]
  },
  {
   "cell_type": "code",
   "execution_count": 48,
   "metadata": {
    "collapsed": true
   },
   "outputs": [],
   "source": [
    "nowSess=sess[-1]\n",
    "xy,timing,intensities,grouptimes,rand_args=ps.get_pattern_params(spots['list'],ptn,nowSess) "
   ]
  },
  {
   "cell_type": "code",
   "execution_count": 49,
   "metadata": {},
   "outputs": [
    {
     "name": "stdout",
     "output_type": "stream",
     "text": [
      "Not enough spots in randomize xy list. Error\n",
      "Not enough spots in randomize xy list. Error\n",
      "Not enough spots in randomize xy list. Error\n",
      "Not enough spots in randomize xy list. Error\n",
      "Not enough spots in randomize xy list. Error\n",
      "Not enough spots in randomize xy list. Error\n"
     ]
    }
   ],
   "source": [
    "fixed_spotsize=20\n",
    "spotsizes=[fixed_spotsize for x in range(len(xy))] #TODO: variable spot size per spot\n",
    "isProbe = 1\n",
    "rig='Polygon'\n",
    "seq_obj=sequence.Sequence2(spots=xy,\n",
    "                          timing=timing,\n",
    "                          isProbe=isProbe,\n",
    "                          rig=rig,\n",
    "                          spotsizes=spotsizes,\n",
    "                          label=ptn,\n",
    "                          mode='grid',\n",
    "                          intensities=intensities,\n",
    "                          grouptimes=grouptimes,\n",
    "                          rand_args=rand_args)\n",
    "seq_obj.rand_spotlist=spots['list']['R']"
   ]
  },
  {
   "cell_type": "code",
   "execution_count": 56,
   "metadata": {},
   "outputs": [
    {
     "name": "stdout",
     "output_type": "stream",
     "text": [
      "True\n",
      "True\n",
      "True\n",
      "True\n",
      "True\n",
      "True\n"
     ]
    }
   ],
   "source": [
    "seq_obj.randomize()\n",
    "for s in seq_obj.spotlist:\n",
    "    print tuple(s.xy) in spots['list']['R']\n",
    "    "
   ]
  },
  {
   "cell_type": "code",
   "execution_count": 46,
   "metadata": {
    "collapsed": true
   },
   "outputs": [],
   "source": [
    "results={}\n",
    "for i in range(10000):\n",
    "    old_target = [(10, 90), (50, 130),(90, 170), (130, 210), (170, 250), (210, 290)]\n",
    "    oldt=list(random.choice(old_target))\n",
    "    pos=random.choice([0,1])\n",
    "    shift=random.choice([-40,40])\n",
    "    newt=oldt[:]\n",
    "    newt[pos]=max(0,oldt[pos]+shift)\n",
    "    if tuple(oldt) in results:\n",
    "        results[tuple(oldt)].append(newt)\n",
    "    else:\n",
    "        results[tuple(oldt)] = [newt]\n"
   ]
  },
  {
   "cell_type": "code",
   "execution_count": null,
   "metadata": {
    "collapsed": true
   },
   "outputs": [],
   "source": []
  },
  {
   "cell_type": "code",
   "execution_count": null,
   "metadata": {
    "collapsed": true
   },
   "outputs": [],
   "source": [
    "s=(50,130)\n",
    "spot_result=np.array(results[s])\n",
    "fig,ax=plt.subplots(1,1)\n",
    "a=np.mean(spot_result,axis=0)[0]\n",
    "b=np.mean(spot_result,axis=0)[1]\n",
    "a_err = np.std(spot_result,axis=0)[0]\n",
    "b_err = np.std(spot_result,axis=0)[1]\n",
    "y_pos = 1500\n",
    "y_height = 100\n",
    "\n",
    "ax.barh(y_pos,left=a,width=b-a,height = y_height,align='center',\n",
    "        color='green', zorder=99)\n",
    "\n",
    "ax.errorbar(a,y_pos,xerr=a_err,color='k')\n",
    "ax.errorbar(b,y_pos,xerr=b_err,color='k')\n",
    "ax.set_ylim(50,2000)\n",
    "ax.set_xlim(0,200)\n",
    "\n",
    "ax.hist(spot_result[:,1], color='orange',bins = binBoundaries);\n",
    "ax.hist(spot_result[:,0], color='blue', bins = binBoundaries,alpha=0.7);"
   ]
  },
  {
   "cell_type": "code",
   "execution_count": null,
   "metadata": {
    "collapsed": true
   },
   "outputs": [],
   "source": [
    "old_target = [(10, 90), (50, 130),(90, 170), (130, 210), (170, 250), (210, 290)]\n",
    "shift_map={}\n",
    "for t in old_target:\n",
    "    shift_map[t]=t\n",
    "\n",
    "old_t=random.choice(shift_map.keys())\n",
    "shift_list=[-40,-60,+40,+60]\n",
    "shift=random.choice(shift_list)\n",
    "new_t=(old_t[0],old_t[1]+shift)\n",
    "print old_t,new_t\n",
    "shift_map[old_t]=new_t"
   ]
  },
  {
   "cell_type": "code",
   "execution_count": null,
   "metadata": {
    "collapsed": true
   },
   "outputs": [],
   "source": [
    "shifter=duration_shifter(1)\n",
    "shifter.get_shift_map()"
   ]
  },
  {
   "cell_type": "code",
   "execution_count": null,
   "metadata": {
    "collapsed": true
   },
   "outputs": [],
   "source": [
    "shifter.get_shift_map()"
   ]
  },
  {
   "cell_type": "code",
   "execution_count": null,
   "metadata": {
    "collapsed": true
   },
   "outputs": [],
   "source": []
  }
 ],
 "metadata": {
  "kernelspec": {
   "display_name": "Python 2",
   "language": "python",
   "name": "python2"
  },
  "language_info": {
   "codemirror_mode": {
    "name": "ipython",
    "version": 2
   },
   "file_extension": ".py",
   "mimetype": "text/x-python",
   "name": "python",
   "nbconvert_exporter": "python",
   "pygments_lexer": "ipython2",
   "version": "2.7.13"
  }
 },
 "nbformat": 4,
 "nbformat_minor": 2
}
