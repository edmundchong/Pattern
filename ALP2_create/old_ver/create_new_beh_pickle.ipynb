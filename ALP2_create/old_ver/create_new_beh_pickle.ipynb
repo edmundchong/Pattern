{
 "cells": [
  {
   "cell_type": "code",
   "execution_count": 1,
   "metadata": {
    "collapsed": true
   },
   "outputs": [],
   "source": [
    "import numpy as np\n",
    "import pickle\n",
    "from copy import deepcopy\n",
    "import random\n"
   ]
  },
  {
   "cell_type": "code",
   "execution_count": 2,
   "metadata": {
    "collapsed": true
   },
   "outputs": [],
   "source": [
    "mouse='12332'\n",
    "sess_template='11394.pickle'"
   ]
  },
  {
   "cell_type": "code",
   "execution_count": 3,
   "metadata": {
    "collapsed": true
   },
   "outputs": [],
   "source": [
    "with open(mouse+'_spots.pickle', 'rb') as fn:\n",
    "    foo,spots=pickle.load(fn)"
   ]
  },
  {
   "cell_type": "code",
   "execution_count": 4,
   "metadata": {},
   "outputs": [
    {
     "data": {
      "text/plain": [
       "{'emulation': False,\n",
       " 'finalized': 0,\n",
       " 'list': {'Aa': [23, 22],\n",
       "  'Bw': [28, 21],\n",
       "  'Gi': [24, 18],\n",
       "  'R': [(27, 20),\n",
       "   (20, 20),\n",
       "   (30, 20),\n",
       "   (24, 20),\n",
       "   (20, 18),\n",
       "   (30, 18),\n",
       "   (21, 18),\n",
       "   (29, 18),\n",
       "   (28, 18),\n",
       "   (25, 18),\n",
       "   (26, 18),\n",
       "   (23, 18),\n",
       "   (22, 18),\n",
       "   (21, 17),\n",
       "   (31, 17),\n",
       "   (30, 17),\n",
       "   (29, 17),\n",
       "   (28, 17),\n",
       "   (27, 17),\n",
       "   (26, 17),\n",
       "   (25, 17),\n",
       "   (24, 17),\n",
       "   (23, 17),\n",
       "   (32, 17),\n",
       "   (32, 16),\n",
       "   (23, 16),\n",
       "   (24, 16),\n",
       "   (25, 16),\n",
       "   (26, 16),\n",
       "   (28, 16),\n",
       "   (29, 16),\n",
       "   (30, 16),\n",
       "   (31, 16),\n",
       "   (31, 15),\n",
       "   (24, 15),\n",
       "   (25, 15),\n",
       "   (26, 15),\n",
       "   (28, 15),\n",
       "   (29, 15),\n",
       "   (30, 15),\n",
       "   (27, 15),\n",
       "   (31, 14),\n",
       "   (25, 14),\n",
       "   (26, 14),\n",
       "   (27, 14),\n",
       "   (28, 14),\n",
       "   (29, 14),\n",
       "   (30, 14),\n",
       "   (20, 19),\n",
       "   (30, 19),\n",
       "   (29, 19),\n",
       "   (27, 19),\n",
       "   (26, 19),\n",
       "   (25, 19),\n",
       "   (24, 19),\n",
       "   (23, 19),\n",
       "   (19, 20),\n",
       "   (21, 20),\n",
       "   (22, 20),\n",
       "   (23, 20),\n",
       "   (29, 20),\n",
       "   (28, 20),\n",
       "   (26, 20),\n",
       "   (25, 20),\n",
       "   (20, 21),\n",
       "   (27, 21),\n",
       "   (29, 21),\n",
       "   (25, 21),\n",
       "   (24, 21),\n",
       "   (26, 21),\n",
       "   (23, 21),\n",
       "   (22, 21),\n",
       "   (21, 21),\n",
       "   (20, 22),\n",
       "   (21, 22),\n",
       "   (29, 22),\n",
       "   (28, 22),\n",
       "   (27, 22),\n",
       "   (26, 22),\n",
       "   (25, 22),\n",
       "   (24, 22),\n",
       "   (22, 22),\n",
       "   (21, 23),\n",
       "   (28, 23),\n",
       "   (27, 23),\n",
       "   (26, 23),\n",
       "   (25, 23),\n",
       "   (24, 23),\n",
       "   (23, 23),\n",
       "   (22, 23),\n",
       "   (28, 13),\n",
       "   (27, 13),\n",
       "   (30, 13),\n",
       "   (29, 13),\n",
       "   (31, 13),\n",
       "   (29, 23),\n",
       "   (28, 24),\n",
       "   (26, 24),\n",
       "   (27, 24),\n",
       "   (22, 24),\n",
       "   (23, 24),\n",
       "   (24, 24),\n",
       "   (25, 24),\n",
       "   (23, 25),\n",
       "   (24, 25),\n",
       "   (27, 25),\n",
       "   (26, 25),\n",
       "   (25, 25),\n",
       "   (27, 18),\n",
       "   (22, 19),\n",
       "   (21, 19)],\n",
       "  'Sb': [27, 16],\n",
       "  'Sj': [28, 19],\n",
       "  'Wg': [22, 17]}}"
      ]
     },
     "execution_count": 4,
     "metadata": {},
     "output_type": "execute_result"
    }
   ],
   "source": [
    "spots"
   ]
  },
  {
   "cell_type": "code",
   "execution_count": 5,
   "metadata": {
    "collapsed": true
   },
   "outputs": [],
   "source": [
    "#form a list containing all spots, random or target\n",
    "all_spots=[]\n",
    "\n",
    "for s,ss in spots['list'].items():\n",
    "    if len(ss) == 2:\n",
    "        all_spots.append(ss)\n",
    "    elif len(ss) > 2:\n",
    "        for sss in ss:\n",
    "            all_spots.append(sss)"
   ]
  },
  {
   "cell_type": "code",
   "execution_count": 6,
   "metadata": {},
   "outputs": [
    {
     "data": {
      "text/plain": [
       "((19, 32), (13, 25))"
      ]
     },
     "execution_count": 6,
     "metadata": {},
     "output_type": "execute_result"
    }
   ],
   "source": [
    "#define rectangular grid that includes all named spots\n",
    "\n",
    "gridmin=np.min(np.array(all_spots),axis=0)\n",
    "gridmax=np.max(np.array(all_spots),axis=0)\n",
    "\n",
    "grid=((gridmin[0],gridmax[0]),(gridmin[1],gridmax[1]))\n",
    "\n",
    "grid"
   ]
  },
  {
   "cell_type": "code",
   "execution_count": 7,
   "metadata": {
    "collapsed": true
   },
   "outputs": [],
   "source": [
    "spots['grid']=grid"
   ]
  },
  {
   "cell_type": "code",
   "execution_count": 8,
   "metadata": {
    "collapsed": true
   },
   "outputs": [],
   "source": [
    "#define junk spots\n",
    "#these are spots that are part of the rectangular grid, but are not defined using simple spot\n",
    "#hence these spots should never be stimulated\n",
    "\n",
    "fullgrid=[]\n",
    "for x in range(spots['grid'][0][0],spots['grid'][0][1]+1):\n",
    "    for y in range(spots['grid'][1][0],spots['grid'][1][1]+1):\n",
    "        fullgrid.append((x,y))"
   ]
  },
  {
   "cell_type": "code",
   "execution_count": 9,
   "metadata": {
    "collapsed": true
   },
   "outputs": [],
   "source": [
    "\n",
    "junkspot_list=deepcopy(fullgrid)        \n",
    "\n",
    "for spotname,ss in spots['list'].items():\n",
    "    \n",
    "    if spotname=='R':\n",
    "        for s in ss:\n",
    "            junkspot_list.remove(tuple(s))\n",
    "    else:\n",
    "        junkspot_list.remove(tuple(ss))\n",
    "    "
   ]
  },
  {
   "cell_type": "code",
   "execution_count": 10,
   "metadata": {
    "collapsed": true
   },
   "outputs": [],
   "source": [
    "#give junkspots some arbitrary naming.\n",
    "letters='ABCDEFGHIJKLMNOPQSTUVWXYZ'\n",
    "letters2='abcdefghijklmnopqrstuvwxyz'\n",
    "\n",
    "newSpot='ZFu'\n",
    "\n",
    "junkspots={}\n",
    "\n",
    "for s in junkspot_list:\n",
    "    while newSpot in junkspots:\n",
    "        newSpot = 'Z'+random.choice(letters)+random.choice(letters2)\n",
    "    junkspots[newSpot]=list(s)"
   ]
  },
  {
   "cell_type": "code",
   "execution_count": 11,
   "metadata": {
    "collapsed": true
   },
   "outputs": [],
   "source": [
    "renames=['A','B','C','D','E','F']\n",
    "random.shuffle(renames)"
   ]
  },
  {
   "cell_type": "code",
   "execution_count": 12,
   "metadata": {
    "collapsed": true
   },
   "outputs": [],
   "source": [
    "target_spots=spots['list'].keys()\n",
    "if 'R' in target_spots:\n",
    "    target_spots.remove('R')\n",
    "\n",
    "    \n",
    "if len(target_spots)==6:\n",
    "    for s,r in zip(target_spots,renames):\n",
    "        spots['list'][r] = spots['list'].pop(s)"
   ]
  },
  {
   "cell_type": "code",
   "execution_count": 13,
   "metadata": {
    "collapsed": true
   },
   "outputs": [],
   "source": [
    "spots['list'].update(junkspots)\n",
    "\n",
    "spots['list']['R']=['random']\n"
   ]
  },
  {
   "cell_type": "code",
   "execution_count": 14,
   "metadata": {
    "collapsed": true
   },
   "outputs": [],
   "source": [
    "spots['list'].update(junkspots)"
   ]
  },
  {
   "cell_type": "code",
   "execution_count": 15,
   "metadata": {
    "collapsed": true
   },
   "outputs": [],
   "source": [
    "for newSpotLetter in ['U','V','W','X','Y','Z']:    \n",
    "    newSpot=list(random.choice(fullgrid))\n",
    "    while newSpot in spots['list'].values():\n",
    "        newSpot=list(random.choice(fullgrid))\n",
    "        \n",
    "    spots['list'][newSpotLetter]=newSpot"
   ]
  },
  {
   "cell_type": "code",
   "execution_count": 16,
   "metadata": {},
   "outputs": [
    {
     "data": {
      "text/plain": [
       "{'A': [22, 17],\n",
       " 'B': [28, 21],\n",
       " 'C': [23, 22],\n",
       " 'D': [24, 18],\n",
       " 'E': [28, 19],\n",
       " 'F': [27, 16],\n",
       " 'R': ['random'],\n",
       " 'U': [26, 18],\n",
       " 'V': [26, 19],\n",
       " 'W': [23, 19],\n",
       " 'X': [30, 20],\n",
       " 'Y': [28, 24],\n",
       " 'Z': [21, 20],\n",
       " 'ZAt': [20, 14],\n",
       " 'ZCh': [22, 14],\n",
       " 'ZCr': [31, 23],\n",
       " 'ZCy': [22, 13],\n",
       " 'ZDk': [31, 22],\n",
       " 'ZDr': [19, 23],\n",
       " 'ZDz': [32, 21],\n",
       " 'ZEj': [20, 17],\n",
       " 'ZEu': [32, 13],\n",
       " 'ZEv': [26, 13],\n",
       " 'ZFp': [20, 16],\n",
       " 'ZFu': [19, 13],\n",
       " 'ZGj': [20, 13],\n",
       " 'ZGk': [30, 25],\n",
       " 'ZGm': [21, 25],\n",
       " 'ZGo': [32, 23],\n",
       " 'ZHw': [19, 22],\n",
       " 'ZId': [31, 21],\n",
       " 'ZIw': [23, 13],\n",
       " 'ZJg': [30, 21],\n",
       " 'ZJk': [21, 13],\n",
       " 'ZJr': [19, 19],\n",
       " 'ZJt': [20, 25],\n",
       " 'ZKh': [19, 24],\n",
       " 'ZKj': [23, 14],\n",
       " 'ZKz': [19, 18],\n",
       " 'ZLl': [31, 24],\n",
       " 'ZLo': [20, 24],\n",
       " 'ZLp': [31, 20],\n",
       " 'ZMh': [31, 19],\n",
       " 'ZNn': [19, 14],\n",
       " 'ZNq': [28, 25],\n",
       " 'ZOu': [19, 16],\n",
       " 'ZOy': [32, 24],\n",
       " 'ZPg': [31, 18],\n",
       " 'ZPm': [19, 25],\n",
       " 'ZPq': [20, 15],\n",
       " 'ZQt': [32, 25],\n",
       " 'ZQz': [32, 22],\n",
       " 'ZSh': [19, 17],\n",
       " 'ZSy': [32, 19],\n",
       " 'ZTe': [22, 16],\n",
       " 'ZTn': [22, 15],\n",
       " 'ZTq': [19, 15],\n",
       " 'ZTu': [20, 23],\n",
       " 'ZUg': [21, 14],\n",
       " 'ZUj': [32, 18],\n",
       " 'ZVc': [21, 24],\n",
       " 'ZVg': [32, 15],\n",
       " 'ZVl': [24, 13],\n",
       " 'ZVn': [29, 24],\n",
       " 'ZWj': [25, 13],\n",
       " 'ZWu': [23, 15],\n",
       " 'ZXg': [32, 20],\n",
       " 'ZXh': [30, 22],\n",
       " 'ZXv': [24, 14],\n",
       " 'ZXy': [30, 23],\n",
       " 'ZYf': [32, 14],\n",
       " 'ZYj': [22, 25],\n",
       " 'ZYq': [29, 25],\n",
       " 'ZYs': [19, 21],\n",
       " 'ZZj': [21, 15],\n",
       " 'ZZn': [31, 25],\n",
       " 'ZZo': [30, 24],\n",
       " 'ZZx': [21, 16]}"
      ]
     },
     "execution_count": 16,
     "metadata": {},
     "output_type": "execute_result"
    }
   ],
   "source": [
    "spots['list']"
   ]
  },
  {
   "cell_type": "code",
   "execution_count": 17,
   "metadata": {
    "collapsed": true
   },
   "outputs": [],
   "source": [
    "with open(sess_template,'rb') as fn:\n",
    "    sess,foo=pickle.load(fn)"
   ]
  },
  {
   "cell_type": "code",
   "execution_count": 18,
   "metadata": {
    "collapsed": true
   },
   "outputs": [],
   "source": [
    "with open(mouse+'.pickle','wb') as fn:\n",
    "    pickle.dump([sess,spots],fn)"
   ]
  },
  {
   "cell_type": "code",
   "execution_count": null,
   "metadata": {
    "collapsed": true
   },
   "outputs": [],
   "source": []
  }
 ],
 "metadata": {
  "kernelspec": {
   "display_name": "Python 2",
   "language": "python",
   "name": "python2"
  },
  "language_info": {
   "codemirror_mode": {
    "name": "ipython",
    "version": 2
   },
   "file_extension": ".py",
   "mimetype": "text/x-python",
   "name": "python",
   "nbconvert_exporter": "python",
   "pygments_lexer": "ipython2",
   "version": "2.7.13"
  }
 },
 "nbformat": 4,
 "nbformat_minor": 1
}
