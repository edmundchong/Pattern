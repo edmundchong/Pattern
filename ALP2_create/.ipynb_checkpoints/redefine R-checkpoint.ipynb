{
 "cells": [
  {
   "cell_type": "code",
   "execution_count": 2,
   "metadata": {},
   "outputs": [],
   "source": [
    "import sys\n",
    "sys.path.append('../')\n",
    "import sequence\n",
    "import spot\n",
    "import pickle\n",
    "from copy import deepcopy"
   ]
  },
  {
   "cell_type": "code",
   "execution_count": null,
   "metadata": {
    "collapsed": true
   },
   "outputs": [],
   "source": [
    "# note: code is incomplete. needs debugging"
   ]
  },
  {
   "cell_type": "code",
   "execution_count": 3,
   "metadata": {
    "collapsed": true
   },
   "outputs": [],
   "source": [
    "mouse='11111'"
   ]
  },
  {
   "cell_type": "code",
   "execution_count": 5,
   "metadata": {},
   "outputs": [],
   "source": [
    "filename = mouse+'.pickle'\n",
    "with open(filename,'rb') as fn:\n",
    "    sess,spots=pickle.load(fn)"
   ]
  },
  {
   "cell_type": "code",
   "execution_count": 7,
   "metadata": {},
   "outputs": [
    {
     "data": {
      "text/plain": [
       "((18, 29), (11, 22))"
      ]
     },
     "execution_count": 7,
     "metadata": {},
     "output_type": "execute_result"
    }
   ],
   "source": [
    "spots['grid']"
   ]
  },
  {
   "cell_type": "code",
   "execution_count": 10,
   "metadata": {
    "collapsed": true
   },
   "outputs": [],
   "source": [
    "x_minmax=spots['grid'][0]\n",
    "y_minmax=spots['grid'][1]"
   ]
  },
  {
   "cell_type": "code",
   "execution_count": 11,
   "metadata": {},
   "outputs": [],
   "source": [
    "x_range=range(x_minmax[0],x_minmax[1]+1)\n",
    "y_range=range(y_minmax[0],y_minmax[1]+1)"
   ]
  },
  {
   "cell_type": "code",
   "execution_count": 12,
   "metadata": {},
   "outputs": [],
   "source": [
    "random_spots=[]\n",
    "for x1 in x_range:\n",
    "    for y1 in y_range:\n",
    "        random_spots.append((x1,y1))"
   ]
  },
  {
   "cell_type": "code",
   "execution_count": null,
   "metadata": {
    "collapsed": true
   },
   "outputs": [],
   "source": [
    "spots['lis']"
   ]
  },
  {
   "cell_type": "code",
   "execution_count": 30,
   "metadata": {
    "collapsed": true
   },
   "outputs": [],
   "source": [
    "dont_remove=['U','V','W','X','Y','Z','R']\n",
    "for s in spots['list']:\n",
    "    if s in dont_remove:\n",
    "        continue\n",
    "    else:\n",
    "        random_spots.remove(tuple(spots['list'][s]))"
   ]
  },
  {
   "cell_type": "code",
   "execution_count": 31,
   "metadata": {
    "collapsed": true
   },
   "outputs": [],
   "source": [
    "spots['list']['R']=deepcopy(random_spots)"
   ]
  },
  {
   "cell_type": "code",
   "execution_count": 32,
   "metadata": {},
   "outputs": [
    {
     "data": {
      "text/plain": [
       "[(19, 20),\n",
       " (19, 22),\n",
       " (20, 18),\n",
       " (20, 19),\n",
       " (20, 20),\n",
       " (20, 21),\n",
       " (20, 22),\n",
       " (20, 23),\n",
       " (21, 18),\n",
       " (21, 20),\n",
       " (21, 21),\n",
       " (21, 22),\n",
       " (21, 23),\n",
       " (22, 17),\n",
       " (22, 18),\n",
       " (22, 19),\n",
       " (22, 20),\n",
       " (22, 21),\n",
       " (22, 22),\n",
       " (22, 23),\n",
       " (23, 16),\n",
       " (23, 17),\n",
       " (23, 18),\n",
       " (23, 19),\n",
       " (23, 20),\n",
       " (23, 22),\n",
       " (23, 23),\n",
       " (24, 16),\n",
       " (24, 18),\n",
       " (24, 19),\n",
       " (24, 20),\n",
       " (24, 21),\n",
       " (24, 22),\n",
       " (24, 23),\n",
       " (25, 17),\n",
       " (25, 18),\n",
       " (25, 20),\n",
       " (25, 21),\n",
       " (25, 22),\n",
       " (26, 16),\n",
       " (26, 18),\n",
       " (26, 19),\n",
       " (26, 20),\n",
       " (26, 21),\n",
       " (26, 22),\n",
       " (26, 23),\n",
       " (27, 17),\n",
       " (27, 18),\n",
       " (27, 19),\n",
       " (27, 20),\n",
       " (27, 22),\n",
       " (28, 18),\n",
       " (28, 19),\n",
       " (28, 20),\n",
       " (28, 21),\n",
       " (28, 22)]"
      ]
     },
     "execution_count": 32,
     "metadata": {},
     "output_type": "execute_result"
    }
   ],
   "source": [
    "spots['list']['R']"
   ]
  },
  {
   "cell_type": "code",
   "execution_count": 33,
   "metadata": {
    "collapsed": true
   },
   "outputs": [],
   "source": [
    "filename = 'foo/'+mouse+'.pickle'\n",
    "with open(filename,'wb') as fn:\n",
    "    pickle.dump([sess,spots],fn)"
   ]
  },
  {
   "cell_type": "code",
   "execution_count": null,
   "metadata": {
    "collapsed": true
   },
   "outputs": [],
   "source": []
  }
 ],
 "metadata": {
  "kernelspec": {
   "display_name": "Python 2",
   "language": "python",
   "name": "python2"
  },
  "language_info": {
   "codemirror_mode": {
    "name": "ipython",
    "version": 2
   },
   "file_extension": ".py",
   "mimetype": "text/x-python",
   "name": "python",
   "nbconvert_exporter": "python",
   "pygments_lexer": "ipython2",
   "version": "2.7.13"
  }
 },
 "nbformat": 4,
 "nbformat_minor": 2
}
