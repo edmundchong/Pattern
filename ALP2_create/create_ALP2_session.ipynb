{
 "cells": [
  {
   "cell_type": "code",
   "execution_count": 12,
   "metadata": {
    "collapsed": true
   },
   "outputs": [],
   "source": [
    "import numpy as np\n",
    "import pickle\n",
    "from copy import deepcopy\n",
    "import random\n"
   ]
  },
  {
   "cell_type": "code",
   "execution_count": 13,
   "metadata": {
    "collapsed": true
   },
   "outputs": [],
   "source": [
    "mouse='15832'\n",
    "sess_template='1821.pickle'"
   ]
  },
  {
   "cell_type": "code",
   "execution_count": 14,
   "metadata": {
    "collapsed": true
   },
   "outputs": [],
   "source": [
    "with open(mouse+'_spots.pickle', 'rb') as fn:\n",
    "    foo,spots=pickle.load(fn)"
   ]
  },
  {
   "cell_type": "code",
   "execution_count": 15,
   "metadata": {
    "collapsed": true
   },
   "outputs": [],
   "source": [
    "#form a list containing all spots, random or target\n",
    "all_spots=[]\n",
    "\n",
    "for s,ss in spots['list'].items():\n",
    "    if len(ss) == 2:\n",
    "        all_spots.append(ss)\n",
    "    elif len(ss) > 2:\n",
    "        for sss in ss:\n",
    "            all_spots.append(sss)"
   ]
  },
  {
   "cell_type": "code",
   "execution_count": 16,
   "metadata": {
    "collapsed": true
   },
   "outputs": [],
   "source": [
    "#define rectangular grid that includes all named spots\n",
    "\n",
    "gridmin=np.min(np.array(all_spots),axis=0)\n",
    "gridmax=np.max(np.array(all_spots),axis=0)\n",
    "\n",
    "grid=((gridmin[0],gridmax[0]),(gridmin[1],gridmax[1]))\n",
    "\n",
    "spots['grid']=grid"
   ]
  },
  {
   "cell_type": "code",
   "execution_count": 17,
   "metadata": {
    "collapsed": true
   },
   "outputs": [],
   "source": [
    "alphabet='ABCDEFGHIJKLMNOPQSTUVWXYZ'\n",
    "alphabet2='abcdefghijklmnopqrstuvwxyz'\n"
   ]
  },
  {
   "cell_type": "code",
   "execution_count": 18,
   "metadata": {
    "collapsed": true
   },
   "outputs": [],
   "source": [
    "target_spots=spots['list'].keys()\n",
    "if 'R' in target_spots: #take all defined spots except 'R' which is random\n",
    "    target_spots.remove('R')"
   ]
  },
  {
   "cell_type": "code",
   "execution_count": 19,
   "metadata": {
    "collapsed": true
   },
   "outputs": [],
   "source": [
    "#rename target spots to single letters. 'R' IS EXCLUDED\n",
    "\n",
    "if len(target_spots) > 25:\n",
    "    raise ValueError('Fix the code. Currently only 25 single letters max')\n",
    "else:\n",
    "    letterSet = [i for i in alphabet[:len(target_spots)]]\n",
    "    np.random.shuffle(letterSet)\n",
    "    \n",
    "for oldname,newname in zip(target_spots, letterSet):\n",
    "    spots['list'][newname] = spots['list'][oldname]\n",
    "    del spots['list'][oldname]"
   ]
  },
  {
   "cell_type": "code",
   "execution_count": 20,
   "metadata": {},
   "outputs": [
    {
     "data": {
      "text/plain": [
       "\"\\n#===NON TARGET PATTERN. For Edmund===\\nfor newSpotLetter in ['U','V','W','X','Y','Z']:    \\n    newSpot = random.choice(spots['list']['R'])\\n    while newSpot in spots['list'].values():\\n        newSpot = random.choice(spots['list']['R'])\\n\\n    spots['list'][newSpotLetter]=newSpot\\n\""
      ]
     },
     "execution_count": 20,
     "metadata": {},
     "output_type": "execute_result"
    }
   ],
   "source": [
    "'''\n",
    "#===NON TARGET PATTERN. For Edmund===\n",
    "for newSpotLetter in ['U','V','W','X','Y','Z']:    \n",
    "    newSpot = random.choice(spots['list']['R'])\n",
    "    while newSpot in spots['list'].values():\n",
    "        newSpot = random.choice(spots['list']['R'])\n",
    "\n",
    "    spots['list'][newSpotLetter]=newSpot\n",
    "'''    "
   ]
  },
  {
   "cell_type": "code",
   "execution_count": 21,
   "metadata": {
    "collapsed": true
   },
   "outputs": [],
   "source": [
    "with open(sess_template,'rb') as fn:\n",
    "    sess,foo=pickle.load(fn)"
   ]
  },
  {
   "cell_type": "code",
   "execution_count": 22,
   "metadata": {
    "collapsed": true
   },
   "outputs": [],
   "source": [
    "with open(mouse+'.pickle','wb') as fn:\n",
    "    pickle.dump([sess,spots],fn)"
   ]
  },
  {
   "cell_type": "code",
   "execution_count": null,
   "metadata": {
    "collapsed": true
   },
   "outputs": [],
   "source": []
  }
 ],
 "metadata": {
  "kernelspec": {
   "display_name": "Python 2",
   "language": "python",
   "name": "python2"
  },
  "language_info": {
   "codemirror_mode": {
    "name": "ipython",
    "version": 2
   },
   "file_extension": ".py",
   "mimetype": "text/x-python",
   "name": "python",
   "nbconvert_exporter": "python",
   "pygments_lexer": "ipython2",
   "version": "2.7.13"
  }
 },
 "nbformat": 4,
 "nbformat_minor": 1
}
