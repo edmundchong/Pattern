{
 "cells": [
  {
   "cell_type": "code",
   "execution_count": 1,
   "metadata": {
    "collapsed": true
   },
   "outputs": [],
   "source": [
    "import numpy as np\n",
    "import pickle\n",
    "from copy import deepcopy\n",
    "import random\n"
   ]
  },
  {
   "cell_type": "code",
   "execution_count": 4,
   "metadata": {
    "collapsed": true
   },
   "outputs": [],
   "source": [
    "mouse='11134'\n",
    "sess_template='patternstim_2AFC_servo.pickle'"
   ]
  },
  {
   "cell_type": "code",
   "execution_count": 5,
   "metadata": {
    "collapsed": true
   },
   "outputs": [],
   "source": [
    "with open(mouse+'_spots.pickle', 'rb') as fn:\n",
    "    foo,spots=pickle.load(fn)"
   ]
  },
  {
   "cell_type": "code",
   "execution_count": 6,
   "metadata": {},
   "outputs": [
    {
     "data": {
      "text/plain": [
       "{'emulation': False,\n",
       " 'finalized': 0,\n",
       " 'list': {'Aa': [26, 18],\n",
       "  'If': [25, 12],\n",
       "  'Kf': [28, 17],\n",
       "  'Lt': [21, 20],\n",
       "  'Nw': [20, 17],\n",
       "  'R': [(18, 16),\n",
       "   (19, 16),\n",
       "   (20, 16),\n",
       "   (21, 16),\n",
       "   (22, 16),\n",
       "   (23, 16),\n",
       "   (25, 16),\n",
       "   (26, 16),\n",
       "   (27, 16),\n",
       "   (28, 16),\n",
       "   (29, 16),\n",
       "   (29, 17),\n",
       "   (17, 17),\n",
       "   (18, 17),\n",
       "   (19, 17),\n",
       "   (21, 17),\n",
       "   (23, 17),\n",
       "   (22, 17),\n",
       "   (24, 17),\n",
       "   (25, 17),\n",
       "   (26, 17),\n",
       "   (27, 17),\n",
       "   (29, 18),\n",
       "   (28, 18),\n",
       "   (19, 18),\n",
       "   (20, 18),\n",
       "   (21, 18),\n",
       "   (22, 18),\n",
       "   (23, 18),\n",
       "   (24, 18),\n",
       "   (25, 18),\n",
       "   (27, 18),\n",
       "   (19, 19),\n",
       "   (20, 19),\n",
       "   (27, 19),\n",
       "   (26, 19),\n",
       "   (25, 19),\n",
       "   (24, 19),\n",
       "   (23, 19),\n",
       "   (22, 19),\n",
       "   (21, 19),\n",
       "   (19, 20),\n",
       "   (27, 20),\n",
       "   (26, 20),\n",
       "   (25, 20),\n",
       "   (24, 20),\n",
       "   (23, 20),\n",
       "   (22, 20),\n",
       "   (20, 20),\n",
       "   (22, 21),\n",
       "   (23, 21),\n",
       "   (24, 21),\n",
       "   (25, 21),\n",
       "   (26, 21),\n",
       "   (28, 15),\n",
       "   (27, 15),\n",
       "   (17, 15),\n",
       "   (18, 15),\n",
       "   (19, 15),\n",
       "   (20, 15),\n",
       "   (22, 15),\n",
       "   (23, 15),\n",
       "   (25, 15),\n",
       "   (26, 15),\n",
       "   (28, 14),\n",
       "   (27, 14),\n",
       "   (26, 14),\n",
       "   (17, 14),\n",
       "   (18, 14),\n",
       "   (19, 14),\n",
       "   (20, 14),\n",
       "   (23, 14),\n",
       "   (24, 14),\n",
       "   (25, 14),\n",
       "   (22, 14),\n",
       "   (19, 13),\n",
       "   (20, 13),\n",
       "   (28, 13),\n",
       "   (21, 13),\n",
       "   (22, 13),\n",
       "   (23, 13),\n",
       "   (24, 13),\n",
       "   (25, 13),\n",
       "   (27, 13),\n",
       "   (26, 13),\n",
       "   (27, 12),\n",
       "   (26, 12),\n",
       "   (21, 12),\n",
       "   (22, 12),\n",
       "   (23, 12),\n",
       "   (24, 12),\n",
       "   (20, 12),\n",
       "   (26, 11),\n",
       "   (25, 11),\n",
       "   (24, 11),\n",
       "   (23, 11),\n",
       "   (26, 10),\n",
       "   (25, 10),\n",
       "   (24, 10),\n",
       "   (24, 15),\n",
       "   (24, 16),\n",
       "   (21, 15)],\n",
       "  'Xh': [21, 14]}}"
      ]
     },
     "execution_count": 6,
     "metadata": {},
     "output_type": "execute_result"
    }
   ],
   "source": [
    "spots"
   ]
  },
  {
   "cell_type": "code",
   "execution_count": 39,
   "metadata": {
    "collapsed": true
   },
   "outputs": [],
   "source": [
    "#form a list containing all spots, random or target\n",
    "all_spots=[]\n",
    "\n",
    "for s,ss in spots['list'].items():\n",
    "    if len(ss) == 2:\n",
    "        all_spots.append(ss)\n",
    "    elif len(ss) > 2:\n",
    "        for sss in ss:\n",
    "            all_spots.append(sss)"
   ]
  },
  {
   "cell_type": "code",
   "execution_count": 40,
   "metadata": {},
   "outputs": [
    {
     "data": {
      "text/plain": [
       "((19, 30), (15, 23))"
      ]
     },
     "execution_count": 40,
     "metadata": {},
     "output_type": "execute_result"
    }
   ],
   "source": [
    "#define rectangular grid that includes \n",
    "\n",
    "gridmin=np.min(np.array(all_spots),axis=0)\n",
    "gridmax=np.max(np.array(all_spots),axis=0)\n",
    "\n",
    "grid=((gridmin[0],gridmax[0]),(gridmin[1],gridmax[1]))\n",
    "\n",
    "grid"
   ]
  },
  {
   "cell_type": "code",
   "execution_count": 41,
   "metadata": {
    "collapsed": true
   },
   "outputs": [],
   "source": [
    "spots['grid']=grid"
   ]
  },
  {
   "cell_type": "code",
   "execution_count": 42,
   "metadata": {
    "collapsed": true
   },
   "outputs": [],
   "source": [
    "#define junk spots\n",
    "\n",
    "fullgrid=[]\n",
    "for x in range(spots['grid'][0][0],spots['grid'][0][1]+1):\n",
    "    for y in range(spots['grid'][1][0],spots['grid'][1][1]+1):\n",
    "        fullgrid.append((x,y))"
   ]
  },
  {
   "cell_type": "code",
   "execution_count": 43,
   "metadata": {
    "collapsed": true
   },
   "outputs": [],
   "source": [
    "junkspot_list=deepcopy(fullgrid)        \n",
    "\n",
    "for spotname,ss in spots['list'].items():\n",
    "    \n",
    "    if spotname=='R':\n",
    "        for s in ss:\n",
    "            junkspot_list.remove(tuple(s))\n",
    "    else:\n",
    "        junkspot_list.remove(tuple(ss))\n",
    "    "
   ]
  },
  {
   "cell_type": "code",
   "execution_count": 44,
   "metadata": {
    "collapsed": true
   },
   "outputs": [],
   "source": [
    "letters='ABCDEFGHIJKLMNOPQSTUVWXYZ'\n",
    "letters2='abcdefghijklmnopqrstuvwxyz'\n",
    "\n",
    "newSpot='ZFu'\n",
    "\n",
    "junkspots={}\n",
    "\n",
    "for s in junkspot_list:\n",
    "    while newSpot in junkspots:\n",
    "        newSpot = 'Z'+random.choice(letters)+random.choice(letters2)\n",
    "    junkspots[newSpot]=list(s)"
   ]
  },
  {
   "cell_type": "code",
   "execution_count": 45,
   "metadata": {
    "collapsed": true
   },
   "outputs": [],
   "source": [
    "renames=['A','B','C','D','E','F']\n",
    "random.shuffle(renames)"
   ]
  },
  {
   "cell_type": "code",
   "execution_count": 46,
   "metadata": {
    "collapsed": true
   },
   "outputs": [],
   "source": [
    "target_spots=spots['list'].keys()\n",
    "if 'R' in target_spots:\n",
    "    target_spots.remove('R')\n",
    "\n",
    "    \n",
    "if len(target_spots)==6:\n",
    "    for s,r in zip(target_spots,renames):\n",
    "        spots['list'][r] = spots['list'].pop(s)"
   ]
  },
  {
   "cell_type": "code",
   "execution_count": 47,
   "metadata": {
    "collapsed": true
   },
   "outputs": [],
   "source": [
    "spots['list'].update(junkspots)\n",
    "\n",
    "spots['list']['R']=['random']\n"
   ]
  },
  {
   "cell_type": "code",
   "execution_count": 48,
   "metadata": {
    "collapsed": true
   },
   "outputs": [],
   "source": [
    "spots['list'].update(junkspots)"
   ]
  },
  {
   "cell_type": "code",
   "execution_count": 49,
   "metadata": {
    "collapsed": true
   },
   "outputs": [],
   "source": [
    "for newSpotLetter in ['U','V','W','X','Y','Z']:    \n",
    "    newSpot=list(random.choice(fullgrid))\n",
    "    while newSpot in spots['list'].values():\n",
    "        newSpot=list(random.choice(fullgrid))\n",
    "        \n",
    "    spots['list'][newSpotLetter]=newSpot"
   ]
  },
  {
   "cell_type": "code",
   "execution_count": 50,
   "metadata": {},
   "outputs": [
    {
     "data": {
      "text/plain": [
       "{'A': [27, 16],\n",
       " 'B': [24, 18],\n",
       " 'C': [27, 19],\n",
       " 'D': [24, 22],\n",
       " 'E': [20, 19],\n",
       " 'F': [22, 20],\n",
       " 'R': ['random'],\n",
       " 'U': [21, 22],\n",
       " 'V': [28, 15],\n",
       " 'W': [28, 20],\n",
       " 'X': [28, 19],\n",
       " 'Y': [27, 17],\n",
       " 'Z': [24, 17],\n",
       " 'ZAl': [27, 22],\n",
       " 'ZBo': [20, 22],\n",
       " 'ZCs': [29, 21],\n",
       " 'ZEb': [20, 17],\n",
       " 'ZEe': [20, 18],\n",
       " 'ZEz': [27, 23],\n",
       " 'ZFf': [19, 21],\n",
       " 'ZFq': [20, 16],\n",
       " 'ZFu': [19, 15],\n",
       " 'ZGi': [19, 23],\n",
       " 'ZGp': [30, 21],\n",
       " 'ZGs': [30, 20],\n",
       " 'ZHc': [23, 15],\n",
       " 'ZIf': [22, 16],\n",
       " 'ZIs': [25, 15],\n",
       " 'ZJe': [30, 23],\n",
       " 'ZKd': [28, 22],\n",
       " 'ZKh': [20, 23],\n",
       " 'ZKm': [22, 17],\n",
       " 'ZKt': [25, 23],\n",
       " 'ZLs': [24, 16],\n",
       " 'ZLu': [29, 20],\n",
       " 'ZLw': [26, 23],\n",
       " 'ZMf': [28, 23],\n",
       " 'ZNc': [24, 23],\n",
       " 'ZOu': [21, 17],\n",
       " 'ZPc': [23, 16],\n",
       " 'ZPu': [20, 15],\n",
       " 'ZQr': [29, 22],\n",
       " 'ZQv': [29, 19],\n",
       " 'ZSg': [19, 18],\n",
       " 'ZSv': [24, 15],\n",
       " 'ZTq': [22, 15],\n",
       " 'ZUt': [19, 22],\n",
       " 'ZWb': [30, 19],\n",
       " 'ZWw': [30, 22],\n",
       " 'ZWy': [29, 23],\n",
       " 'ZXe': [21, 16],\n",
       " 'ZXh': [19, 17],\n",
       " 'ZXt': [19, 16],\n",
       " 'ZYp': [21, 15]}"
      ]
     },
     "execution_count": 50,
     "metadata": {},
     "output_type": "execute_result"
    }
   ],
   "source": [
    "spots['list']"
   ]
  },
  {
   "cell_type": "code",
   "execution_count": 51,
   "metadata": {
    "collapsed": true
   },
   "outputs": [],
   "source": [
    "with open(sess_template,'rb') as fn:\n",
    "    sess,foo=pickle.load(fn)"
   ]
  },
  {
   "cell_type": "code",
   "execution_count": 52,
   "metadata": {
    "collapsed": true
   },
   "outputs": [],
   "source": [
    "with open(mouse+'.pickle','wb') as fn:\n",
    "    pickle.dump([sess,spots],fn)"
   ]
  },
  {
   "cell_type": "code",
   "execution_count": null,
   "metadata": {
    "collapsed": true
   },
   "outputs": [],
   "source": []
  }
 ],
 "metadata": {
  "kernelspec": {
   "display_name": "Python 2",
   "language": "python",
   "name": "python2"
  },
  "language_info": {
   "codemirror_mode": {
    "name": "ipython",
    "version": 2
   },
   "file_extension": ".py",
   "mimetype": "text/x-python",
   "name": "python",
   "nbconvert_exporter": "python",
   "pygments_lexer": "ipython2",
   "version": "2.7.13"
  }
 },
 "nbformat": 4,
 "nbformat_minor": 1
}
