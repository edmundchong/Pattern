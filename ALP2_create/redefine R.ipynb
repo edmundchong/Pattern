{
 "cells": [
  {
   "cell_type": "code",
   "execution_count": 1,
   "metadata": {
    "collapsed": true
   },
   "outputs": [],
   "source": [
    "import sys\n",
    "sys.path.append('../')\n",
    "import sequence\n",
    "import spot\n",
    "import pickle\n",
    "from copy import deepcopy"
   ]
  },
  {
   "cell_type": "markdown",
   "metadata": {
    "collapsed": true
   },
   "source": [
    "convert old version of pickle spot definitons to new version\n",
    "\n",
    "old version: there exists a rectangular grid. {ABCDEFUVWXYZ} are 12 defined spots\n",
    "The rest of the other NAMED spots e.g. 'Au24' are junk spots, to never be stimulated.\n",
    "random spots are then any spots that are anything in the grid other than these.\n",
    "\n",
    "new version: {ABCDEF}, and 'R' random spot which is set of the random spots above + UVWXYZ. Junk spots definition can be kept for posterity (but useless). "
   ]
  },
  {
   "cell_type": "code",
   "execution_count": 2,
   "metadata": {
    "collapsed": true
   },
   "outputs": [],
   "source": [
    "mouse='12332'"
   ]
  },
  {
   "cell_type": "code",
   "execution_count": 3,
   "metadata": {
    "collapsed": true
   },
   "outputs": [],
   "source": [
    "filename = mouse+'.pickle'\n",
    "with open(filename,'rb') as fn:\n",
    "    sess,spots=pickle.load(fn)"
   ]
  },
  {
   "cell_type": "code",
   "execution_count": 4,
   "metadata": {
    "collapsed": true
   },
   "outputs": [],
   "source": [
    "#first form random spot list from full grid\n",
    "spots['grid']\n",
    "\n",
    "x_minmax=spots['grid'][0]\n",
    "y_minmax=spots['grid'][1]\n",
    "\n",
    "x_range=range(x_minmax[0],x_minmax[1]+1)\n",
    "y_range=range(y_minmax[0],y_minmax[1]+1)\n",
    "\n",
    "random_spots=[]\n",
    "for x1 in x_range:\n",
    "    for y1 in y_range:\n",
    "        random_spots.append((x1,y1))"
   ]
  },
  {
   "cell_type": "code",
   "execution_count": 5,
   "metadata": {
    "collapsed": true
   },
   "outputs": [],
   "source": [
    "#now remove junk spots and {ABCDEF} from list\n",
    "\n",
    "dont_remove=['U','V','W','X','Y','Z','R']\n",
    "for s in spots['list']:\n",
    "    if s in dont_remove:\n",
    "        continue\n",
    "    else:\n",
    "        random_spots.remove(tuple(spots['list'][s]))"
   ]
  },
  {
   "cell_type": "code",
   "execution_count": 6,
   "metadata": {
    "collapsed": true
   },
   "outputs": [],
   "source": [
    "spots['list']['R']=deepcopy(random_spots)"
   ]
  },
  {
   "cell_type": "code",
   "execution_count": 7,
   "metadata": {},
   "outputs": [
    {
     "data": {
      "text/plain": [
       "[(19, 20),\n",
       " (20, 18),\n",
       " (20, 19),\n",
       " (20, 20),\n",
       " (20, 21),\n",
       " (20, 22),\n",
       " (21, 17),\n",
       " (21, 18),\n",
       " (21, 19),\n",
       " (21, 20),\n",
       " (21, 21),\n",
       " (21, 22),\n",
       " (21, 23),\n",
       " (22, 18),\n",
       " (22, 19),\n",
       " (22, 20),\n",
       " (22, 21),\n",
       " (22, 22),\n",
       " (22, 23),\n",
       " (22, 24),\n",
       " (23, 16),\n",
       " (23, 17),\n",
       " (23, 18),\n",
       " (23, 19),\n",
       " (23, 20),\n",
       " (23, 21),\n",
       " (23, 23),\n",
       " (23, 24),\n",
       " (23, 25),\n",
       " (24, 15),\n",
       " (24, 16),\n",
       " (24, 17),\n",
       " (24, 19),\n",
       " (24, 20),\n",
       " (24, 21),\n",
       " (24, 22),\n",
       " (24, 23),\n",
       " (24, 24),\n",
       " (24, 25),\n",
       " (25, 14),\n",
       " (25, 15),\n",
       " (25, 16),\n",
       " (25, 17),\n",
       " (25, 18),\n",
       " (25, 19),\n",
       " (25, 20),\n",
       " (25, 21),\n",
       " (25, 22),\n",
       " (25, 23),\n",
       " (25, 24),\n",
       " (25, 25),\n",
       " (26, 14),\n",
       " (26, 15),\n",
       " (26, 16),\n",
       " (26, 17),\n",
       " (26, 18),\n",
       " (26, 19),\n",
       " (26, 20),\n",
       " (26, 21),\n",
       " (26, 22),\n",
       " (26, 23),\n",
       " (26, 24),\n",
       " (26, 25),\n",
       " (27, 13),\n",
       " (27, 14),\n",
       " (27, 15),\n",
       " (27, 17),\n",
       " (27, 18),\n",
       " (27, 19),\n",
       " (27, 20),\n",
       " (27, 21),\n",
       " (27, 22),\n",
       " (27, 23),\n",
       " (27, 24),\n",
       " (27, 25),\n",
       " (28, 13),\n",
       " (28, 14),\n",
       " (28, 15),\n",
       " (28, 16),\n",
       " (28, 17),\n",
       " (28, 18),\n",
       " (28, 20),\n",
       " (28, 22),\n",
       " (28, 23),\n",
       " (28, 24),\n",
       " (29, 13),\n",
       " (29, 14),\n",
       " (29, 15),\n",
       " (29, 16),\n",
       " (29, 17),\n",
       " (29, 18),\n",
       " (29, 19),\n",
       " (29, 20),\n",
       " (29, 21),\n",
       " (29, 22),\n",
       " (29, 23),\n",
       " (30, 13),\n",
       " (30, 14),\n",
       " (30, 15),\n",
       " (30, 16),\n",
       " (30, 17),\n",
       " (30, 18),\n",
       " (30, 19),\n",
       " (30, 20),\n",
       " (31, 13),\n",
       " (31, 14),\n",
       " (31, 15),\n",
       " (31, 16),\n",
       " (31, 17),\n",
       " (32, 16),\n",
       " (32, 17)]"
      ]
     },
     "execution_count": 7,
     "metadata": {},
     "output_type": "execute_result"
    }
   ],
   "source": [
    "spots['list']['R']"
   ]
  },
  {
   "cell_type": "code",
   "execution_count": 8,
   "metadata": {
    "collapsed": true
   },
   "outputs": [],
   "source": [
    "filename = mouse+'.pickle'\n",
    "with open(filename,'wb') as fn:\n",
    "    pickle.dump([sess,spots],fn)"
   ]
  },
  {
   "cell_type": "code",
   "execution_count": null,
   "metadata": {
    "collapsed": true
   },
   "outputs": [],
   "source": []
  },
  {
   "cell_type": "code",
   "execution_count": null,
   "metadata": {
    "collapsed": true
   },
   "outputs": [],
   "source": []
  }
 ],
 "metadata": {
  "kernelspec": {
   "display_name": "Python 2",
   "language": "python",
   "name": "python2"
  },
  "language_info": {
   "codemirror_mode": {
    "name": "ipython",
    "version": 2
   },
   "file_extension": ".py",
   "mimetype": "text/x-python",
   "name": "python",
   "nbconvert_exporter": "python",
   "pygments_lexer": "ipython2",
   "version": "2.7.13"
  }
 },
 "nbformat": 4,
 "nbformat_minor": 2
}
