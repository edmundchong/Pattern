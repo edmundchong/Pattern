{
 "cells": [
  {
   "cell_type": "code",
   "execution_count": 1,
   "metadata": {
    "collapsed": true
   },
   "outputs": [],
   "source": [
    "import pickle\n",
    "from copy import deepcopy\n",
    "import glob"
   ]
  },
  {
   "cell_type": "code",
   "execution_count": 2,
   "metadata": {
    "collapsed": true
   },
   "outputs": [],
   "source": [
    "basedir='/Volumes/Research/Rinberglab/rinberglabspace/Users/Edmund/random pattern/10721/pickle/'"
   ]
  },
  {
   "cell_type": "code",
   "execution_count": 3,
   "metadata": {},
   "outputs": [],
   "source": [
    "with open(basedir+'10721.pickle','rb') as fn:\n",
    "    original=pickle.load(fn)"
   ]
  },
  {
   "cell_type": "code",
   "execution_count": 5,
   "metadata": {},
   "outputs": [
    {
     "data": {
      "text/plain": [
       "{'completed': 1,\n",
       " 'odors': {'nontarget': [], 'probe': [], 'probeTraining': [], 'target': []},\n",
       " 'patterns': {'A10_B20_C30_D40_E50_F60': {'defn': {'A': {'dur': 80,\n",
       "     'intensity': 255,\n",
       "     'onset': 10},\n",
       "    'B': {'dur': 80, 'intensity': 255, 'onset': 20},\n",
       "    'C': {'dur': 80, 'intensity': 255, 'onset': 30},\n",
       "    'D': {'dur': 80, 'intensity': 255, 'onset': 40},\n",
       "    'E': {'dur': 80, 'intensity': 255, 'onset': 50},\n",
       "    'F': {'dur': 80, 'intensity': 255, 'onset': 60}}},\n",
       "  'A10_B20_C30_D40_E50_F60-03': {'defn': {'A': {'dur': 80,\n",
       "     'grouptime': '',\n",
       "     'intensity': 255,\n",
       "     'onset': 10},\n",
       "    'B': {'dur': 80, 'intensity': 255, 'onset': 20},\n",
       "    'C': {'dur': 80, 'intensity': 255, 'onset': 30},\n",
       "    'D': {'dur': 80, 'intensity': 255, 'onset': 40},\n",
       "    'E': {'dur': 80, 'intensity': 255, 'onset': 50},\n",
       "    'F': {'dur': 80, 'intensity': 255, 'onset': 60}},\n",
       "   'omit': 0,\n",
       "   'randdur': 0,\n",
       "   'randt': 0,\n",
       "   'replace': 1,\n",
       "   'scramble': 0},\n",
       "  'A10_B20_C30_D40_E50_F60-04': {'defn': {'A': {'dur': 80,\n",
       "     'grouptime': '',\n",
       "     'intensity': 255,\n",
       "     'onset': 10},\n",
       "    'B': {'dur': 80, 'intensity': 255, 'onset': 20},\n",
       "    'C': {'dur': 80, 'intensity': 255, 'onset': 30},\n",
       "    'D': {'dur': 80, 'intensity': 255, 'onset': 40},\n",
       "    'E': {'dur': 80, 'intensity': 255, 'onset': 50},\n",
       "    'F': {'dur': 80, 'intensity': 255, 'onset': 60}},\n",
       "   'omit': 0,\n",
       "   'randdur': 0,\n",
       "   'randt': 0,\n",
       "   'replace': 2,\n",
       "   'scramble': 0},\n",
       "  'A10_B20_C30_D40_E50_F60-05': {'defn': {'A': {'dur': 80,\n",
       "     'grouptime': '',\n",
       "     'intensity': 255,\n",
       "     'onset': 10},\n",
       "    'B': {'dur': 80, 'intensity': 255, 'onset': 20},\n",
       "    'C': {'dur': 80, 'intensity': 255, 'onset': 30},\n",
       "    'D': {'dur': 80, 'intensity': 255, 'onset': 40},\n",
       "    'E': {'dur': 80, 'intensity': 255, 'onset': 50},\n",
       "    'F': {'dur': 80, 'intensity': 255, 'onset': 60}},\n",
       "   'omit': 0,\n",
       "   'randdur': 0,\n",
       "   'randt': 0,\n",
       "   'replace': 3,\n",
       "   'scramble': 0},\n",
       "  'A10_B20_C30_D40_E50_F60-06': {'defn': {'A': {'dur': 80,\n",
       "     'grouptime': '',\n",
       "     'intensity': 255,\n",
       "     'onset': 10},\n",
       "    'B': {'dur': 80, 'intensity': 255, 'onset': 20},\n",
       "    'C': {'dur': 80, 'intensity': 255, 'onset': 30},\n",
       "    'D': {'dur': 80, 'intensity': 255, 'onset': 40},\n",
       "    'E': {'dur': 80, 'intensity': 255, 'onset': 50},\n",
       "    'F': {'dur': 80, 'intensity': 255, 'onset': 60}},\n",
       "   'omit': 0,\n",
       "   'randdur': 0,\n",
       "   'randt': 0,\n",
       "   'replace': 4,\n",
       "   'scramble': 0},\n",
       "  'A10_B20_C30_D40_E50_F60-07': {'defn': {'A': {'dur': 80,\n",
       "     'grouptime': '',\n",
       "     'intensity': 255,\n",
       "     'onset': 10},\n",
       "    'B': {'dur': 80, 'intensity': 255, 'onset': 20},\n",
       "    'C': {'dur': 80, 'intensity': 255, 'onset': 30},\n",
       "    'D': {'dur': 80, 'intensity': 255, 'onset': 40},\n",
       "    'E': {'dur': 80, 'intensity': 255, 'onset': 50},\n",
       "    'F': {'dur': 80, 'intensity': 255, 'onset': 60}},\n",
       "   'omit': 0,\n",
       "   'randdur': 0,\n",
       "   'randt': 0,\n",
       "   'replace': 5,\n",
       "   'scramble': 0},\n",
       "  'R#_R#_R#_R#_R#_R#': {'defn': {'R1': {'dur': [80, 80],\n",
       "     'grouptime': '',\n",
       "     'intensity': 255,\n",
       "     'onset': [0, 60]},\n",
       "    'R2': {'dur': [80, 80],\n",
       "     'grouptime': '',\n",
       "     'intensity': 255,\n",
       "     'onset': [0, 60]},\n",
       "    'R3': {'dur': [80, 80],\n",
       "     'grouptime': '',\n",
       "     'intensity': 255,\n",
       "     'onset': [0, 60]},\n",
       "    'R4': {'dur': [80, 80],\n",
       "     'grouptime': '',\n",
       "     'intensity': 255,\n",
       "     'onset': [0, 60]},\n",
       "    'R5': {'dur': [80, 80],\n",
       "     'grouptime': '',\n",
       "     'intensity': 255,\n",
       "     'onset': [0, 60]},\n",
       "    'R6': {'dur': [80, 80],\n",
       "     'grouptime': '',\n",
       "     'intensity': 255,\n",
       "     'onset': [0, 60]}}}},\n",
       " 'post': {'comments': '',\n",
       "  'commments': 'aaa',\n",
       "  'date': '050718',\n",
       "  'h5file': 'mouse10721_sess0071-02_D2018_5_7T15_40_17',\n",
       "  'id': '71-2',\n",
       "  'left_plot': array([ 1.        ,  0.        ,  0.5       ,  0.66666667,  0.75      ,\n",
       "          0.8       ,  0.83333333,  0.85714286,  0.875     ,  0.88888889,\n",
       "          0.9       ,  0.90909091,  0.83333333,  0.84615385,  0.85714286,\n",
       "          0.86666667,  0.875     ,  0.88235294,  0.88888889,  0.89473684,\n",
       "          0.9       ,  0.95      ,  0.95      ,  0.95      ,  0.95      ,\n",
       "          0.95      ,  0.95      ,  0.95      ,  0.95      ,  0.95      ,\n",
       "          0.95      ,  0.95      ,  1.        ,  1.        ,  1.        ,\n",
       "          1.        ,  1.        ,  1.        ,  1.        ,  1.        ,\n",
       "          0.95      ,  0.9       ]),\n",
       "  'quit-o-meter': array([ 1.        ,  0.        ,  0.5       ,  0.66666667,  0.75      ,\n",
       "          0.8       ,  0.83333333,  0.85714286,  0.875     ,  0.88888889,\n",
       "          0.9       ,  0.90909091,  0.83333333,  0.84615385,  0.85714286,\n",
       "          0.86666667,  0.875     ,  0.88235294,  0.88888889,  0.89473684,\n",
       "          0.9       ,  0.95      ,  0.95      ,  0.95      ,  0.95      ,\n",
       "          0.95      ,  0.95      ,  0.95      ,  0.95      ,  0.95      ,\n",
       "          0.95      ,  0.95      ,  1.        ,  1.        ,  1.        ,\n",
       "          1.        ,  1.        ,  1.        ,  1.        ,  1.        ,\n",
       "          0.95      ,  0.9       ]),\n",
       "  'result_img': '',\n",
       "  'right_plot': array([1, 1, 1, 1, 1, 1, 1, 1, 1, 1, 1, 1, 1, 1, 1, 1, 1, 1, 1, 1, 1, 1, 1,\n",
       "         1, 1, 1, 1, 1, 1, 1, 1, 1, 1, 1, 1, 1, 1, 1, 1, 1, 1, 1], dtype=int32),\n",
       "  'target_left_acc': '0.90243902439',\n",
       "  'target_right_acc': '0',\n",
       "  'total_trials': 44},\n",
       " 'pre': {'debias': 0,\n",
       "  'graylevel': 1,\n",
       "  'gridsize': 120,\n",
       "  'initialport': 'Left',\n",
       "  'initialtrials': 40,\n",
       "  'laserdur': 800,\n",
       "  'lickgraceperiod': 600,\n",
       "  'mouse_protocol': 'patternstim_2AFC',\n",
       "  'order': 0,\n",
       "  'probeMode': 1,\n",
       "  'ratio_probe': 0.1,\n",
       "  'ratio_training': 0.7,\n",
       "  'ratio_training_probe': 0.2,\n",
       "  'reinforcementpercentage': 0.7,\n",
       "  'rig': 'Polygon'},\n",
       " 'stim': {'nontarget': ['R#_R#_R#_R#_R#_R#'],\n",
       "  'probe': [],\n",
       "  'probeTraining': ['A10_B20_C30_D40_E50_F60', 'R#_R#_R#_R#_R#_R#'],\n",
       "  'target': ['A10_B20_C30_D40_E50_F60']}}"
      ]
     },
     "execution_count": 5,
     "metadata": {},
     "output_type": "execute_result"
    }
   ],
   "source": [
    "original[0][-2]"
   ]
  },
  {
   "cell_type": "code",
   "execution_count": null,
   "metadata": {
    "collapsed": true
   },
   "outputs": [],
   "source": [
    "new = deepcopy(original)\n",
    "del new[0][-1]"
   ]
  },
  {
   "cell_type": "code",
   "execution_count": null,
   "metadata": {
    "collapsed": true
   },
   "outputs": [],
   "source": [
    "files=glob.glob('*.pickle')\n",
    "files.sort()"
   ]
  },
  {
   "cell_type": "code",
   "execution_count": null,
   "metadata": {
    "collapsed": true
   },
   "outputs": [],
   "source": [
    "for f in files[-73:-4]:\n",
    "    with open(f,'rb') as fn:\n",
    "        sess = pickle.load(fn)\n",
    "        new[0].append(sess)"
   ]
  },
  {
   "cell_type": "code",
   "execution_count": null,
   "metadata": {
    "collapsed": true
   },
   "outputs": [],
   "source": [
    "latestSess = deepcopy(sess)\n",
    "latestSess['completed']=0"
   ]
  },
  {
   "cell_type": "code",
   "execution_count": null,
   "metadata": {
    "collapsed": true
   },
   "outputs": [],
   "source": [
    "latestSess['post']=original[0][-1]['post']\n",
    "latestSess['post']['id']='98'\n",
    "latestSess['post']['date']='050318'"
   ]
  },
  {
   "cell_type": "code",
   "execution_count": null,
   "metadata": {
    "collapsed": true
   },
   "outputs": [],
   "source": [
    "new[0].append(latestSess)"
   ]
  },
  {
   "cell_type": "code",
   "execution_count": null,
   "metadata": {
    "collapsed": true
   },
   "outputs": [],
   "source": [
    "with open('11394_test.pickle','wb') as fn:\n",
    "    pickle.dump(new,fn)"
   ]
  },
  {
   "cell_type": "code",
   "execution_count": null,
   "metadata": {
    "collapsed": true
   },
   "outputs": [],
   "source": []
  }
 ],
 "metadata": {
  "kernelspec": {
   "display_name": "Python 2",
   "language": "python",
   "name": "python2"
  },
  "language_info": {
   "codemirror_mode": {
    "name": "ipython",
    "version": 2
   },
   "file_extension": ".py",
   "mimetype": "text/x-python",
   "name": "python",
   "nbconvert_exporter": "python",
   "pygments_lexer": "ipython2",
   "version": "2.7.13"
  }
 },
 "nbformat": 4,
 "nbformat_minor": 2
}
